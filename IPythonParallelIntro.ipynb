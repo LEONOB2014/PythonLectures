{
 "metadata": {
  "name": "",
  "signature": "sha256:41277225174f2226754db620b1c2a7369d8dccb8a4ec4d4f45d516c5286fcbc8"
 },
 "nbformat": 3,
 "nbformat_minor": 0,
 "worksheets": [
  {
   "cells": [
    {
     "cell_type": "markdown",
     "metadata": {},
     "source": [
      "# Parallel Computing with IPython\n",
      "\n",
      "#### *Jake VanderPlas*\n",
      "#### *Codefellows Guest Lecture*\n",
      "#### *July 15, 2014*\n",
      "\n",
      "Today we'll look at performing parallel computations with IPython.  Much of this material will draw from resources available online, including\n",
      "\n",
      "- The IPython [Parallel documentation](http://ipython.org/ipython-doc/rel-1.1.0/parallel/parallel_intro.html)\n",
      "- Min RK's [IPython Parallel Tutorial](https://github.com/minrk/IPython.parallel.tutorial.git) (the source for much of this lecture)\n",
      "\n",
      "Parallel computing is generally very difficult, and IPython provides primitives for a number of scenarios, including:\n",
      "\n",
      "-   Single program, multiple data (SPMD) parallelism\n",
      "-   Multiple program, multiple data (MPMD) parallelism\n",
      "-   Task farming\n",
      "-   Data parallel computation\n",
      "-   Coordination of distributed processes\n",
      "-   Combinations of these approaches\n",
      "-   Custom user defined approaches\n",
      "\n",
      "\n",
      "In addition, IPython parallel includes tools for executing parallel jobs *interactively* (this is the \"I\" in \"IPython\")."
     ]
    },
    {
     "cell_type": "markdown",
     "metadata": {},
     "source": [
      "## First... Why IPython Parallel?\n",
      "\n",
      "One common complaint levied against IPython is that it's too bloated.  Why does a project which started as an enhanced Python interpreter include Parallel tools?  You can hear the answer from IPython's creators in [This Scipy 2012 Keynote](http://pyvideo.org/video/1221/ipython-tools-for-the-entire-lifecycle-of-resear).  In it, Fernando Perez says IPython is\n",
      "\n",
      "> *\"A tool for managing the entire lifecycle of a scientific idea\"*\n",
      "\n",
      "\n",
      "This life-cycle includes the following:\n",
      "\n",
      "- Individual exploratory work\n",
      "- Collaborative development\n",
      "- Production work (HPC, cloud, parallel computing)\n",
      "- Publication\n",
      "- Education\n",
      "\n",
      "Within this context, you can see how the IPython interpreter, parallel tools, and the notebook all fit the vision.\n",
      "\n",
      "Additionally, it is a natural fit because the underlying message-passing architecture necessary for the IPython notebook is also a natural platform for parallel computing."
     ]
    },
    {
     "cell_type": "markdown",
     "metadata": {},
     "source": [
      "## IPython Parallel Architecture\n",
      "<img src=\"files/images/wideView.png\" style=\"float: right;margin-top: -4em\" width=\"400px\"/>\n",
      "\n",
      "The IPython architecture consists of four components:\n",
      "\n",
      "-   The IPython engine\n",
      "-   The IPython hub\n",
      "-   The IPython schedulers\n",
      "-   The cluster client\n",
      "\n",
      "These components live in the `IPython.parallel` package and are\n",
      "installed with IPython."
     ]
    },
    {
     "cell_type": "markdown",
     "metadata": {},
     "source": [
      "### IPython engine\n",
      "\n",
      "The IPython engine is a **Python kernel which takes commands over a network connection**.  There is one engine per core.\n",
      "\n",
      "An important property of an IPython engine is that it blocks while user code is being executed, which allows asynchronous execution.\n",
      "\n",
      "### IPython controller\n",
      "<img src=\"files/images/wideView.png\" style=\"float: right;margin-top: -4em\" width=\"400px\"/>\n",
      "\n",
      "The IPython controller **provides an interface for working with a\n",
      "set of engines.**\n",
      "\n",
      "At a general level, the controller is a collection of\n",
      "processes to which IPython engines and clients can connect. The\n",
      "controller is composed of a `Hub` and a collection of\n",
      "`Schedulers`, which may be in processes or threads.\n",
      "\n",
      "The controller provides a single point of contact for users who\n",
      "wish to utilize the engines in the cluster. There is a variety of\n",
      "different ways of working with a controller, but all of these\n",
      "models are implemented via the `View.apply` method, after\n",
      "constructing `View` objects to represent different collections engines.\n",
      "The two primary models for interacting with engines are:\n",
      "\n",
      "-   A **Direct** interface, where engines are addressed explicitly.\n",
      "-   A **LoadBalanced** interface, where the Scheduler is trusted with\n",
      "    assigning work to appropriate engines.\n",
      "\n",
      "Advanced users can readily extend the View models to enable other styles\n",
      "of parallelism.\n",
      "\n",
      "#### The Hub\n",
      "The center of an IPython cluster is the Hub.  The Hub can be viewed as an \u00fcber-logger, which keeps track of engine connections, schedulers, clients, as well as persist all\n",
      "task requests and results in a database for later use.\n",
      "\n",
      "\n",
      "#### Schedulers\n",
      "All actions that can be performed on the engine go through a Scheduler.\n",
      "While the engines themselves block when user code is run, the schedulers\n",
      "hide that from the user to provide a fully asynchronous interface to a\n",
      "set of engines.  Each Scheduler is a small GIL-less function in C provided\n",
      "by pyzmq (the Python load-balanced scheduler being an exception). "
     ]
    },
    {
     "cell_type": "markdown",
     "metadata": {},
     "source": [
      "## Getting Started\n",
      "\n",
      "The first thing required for using IPython Parallel is to start the cluster.  By default, this will start a local cluster on your own computer, utilizing your CPU's multiple cores if available.\n",
      "\n",
      "There are two ways to do this.\n",
      "\n",
      "### From the command-line\n",
      "On the command-line, you can run the following command to start an IPython cluster:\n",
      "\n",
      "    [~]$ ipcluster start -n 4\n",
      "    \n",
      "will start a cluster with 4 cores (probably what you have available on a modern laptop).  To use as many cores as are available, leave out the ``n``:\n",
      "\n",
      "    [~]$ ipcluster start\n",
      "    \n",
      "This spins-up a Python kernel on each core, along with a hub that connects to them.\n",
      "\n",
      "### From the notebook interface\n",
      "Within the IPython notebook, you can use the *Clusters* tab of the dashboard, and press *Start* with the desired number of cores, under the desired profile (more on profiles later).  This will automatically run the correct commands to start your IPython cluster."
     ]
    },
    {
     "cell_type": "markdown",
     "metadata": {},
     "source": [
      "## Accessing the Clients\n",
      "\n",
      "To make sure everything is working, let's run a simple example.  We'll use the ``IPython.parallel`` submodule to get a view of the clients, and print the client ids:"
     ]
    },
    {
     "cell_type": "code",
     "collapsed": false,
     "input": [
      "from IPython import parallel\n",
      "clients = parallel.Client()\n",
      "clients.block = True  # use synchronous computations\n",
      "print(clients.ids)"
     ],
     "language": "python",
     "metadata": {},
     "outputs": [
      {
       "output_type": "stream",
       "stream": "stdout",
       "text": [
        "[0, 1, 2, 3]\n"
       ]
      }
     ],
     "prompt_number": 2
    },
    {
     "cell_type": "markdown",
     "metadata": {},
     "source": [
      "Now we can use this object to run some code.  Let's define a simple function that we will execute on the cores:"
     ]
    },
    {
     "cell_type": "code",
     "collapsed": false,
     "input": [
      "def mul(a, b):\n",
      "    return a * b\n",
      "\n",
      "mul(5, 6)"
     ],
     "language": "python",
     "metadata": {},
     "outputs": [
      {
       "metadata": {},
       "output_type": "pyout",
       "prompt_number": 3,
       "text": [
        "30"
       ]
      }
     ],
     "prompt_number": 3
    },
    {
     "cell_type": "markdown",
     "metadata": {},
     "source": [
      "Now let's execute ``mul`` on the first engine:"
     ]
    },
    {
     "cell_type": "code",
     "collapsed": false,
     "input": [
      "clients[0].apply(mul, 5, 6)"
     ],
     "language": "python",
     "metadata": {},
     "outputs": [
      {
       "metadata": {},
       "output_type": "pyout",
       "prompt_number": 4,
       "text": [
        "30"
       ]
      }
     ],
     "prompt_number": 4
    },
    {
     "cell_type": "markdown",
     "metadata": {},
     "source": [
      "Notice that the *function* becomes the first argument of ``apply``, and any\n",
      "additional arguments or keyword arguments are passed after it.\n",
      "\n",
      "We can similarly execute ``mul`` in parallel on all the engines at once:"
     ]
    },
    {
     "cell_type": "code",
     "collapsed": false,
     "input": [
      "clients[:].apply(mul, 5, 6)"
     ],
     "language": "python",
     "metadata": {},
     "outputs": [
      {
       "metadata": {},
       "output_type": "pyout",
       "prompt_number": 5,
       "text": [
        "[30, 30, 30, 30]"
       ]
      }
     ],
     "prompt_number": 5
    },
    {
     "cell_type": "markdown",
     "metadata": {},
     "source": [
      "But say we want to pass different arguments to each instance of ``mul``. In normal Python, we could do this with the ``map()`` function:"
     ]
    },
    {
     "cell_type": "code",
     "collapsed": false,
     "input": [
      "%timeit map(mul, [5, 6, 7, 8], [8, 9, 10, 11])"
     ],
     "language": "python",
     "metadata": {},
     "outputs": [
      {
       "output_type": "stream",
       "stream": "stdout",
       "text": [
        "1000000 loops, best of 3: 1.47 \u00b5s per loop\n"
       ]
      }
     ],
     "prompt_number": 6
    },
    {
     "cell_type": "markdown",
     "metadata": {},
     "source": [
      "The client views also have a map function which does the execution in parallel.  Let's use a load-balanced view so that the IPython scheduler takes care of farming the tasks for us:"
     ]
    },
    {
     "cell_type": "code",
     "collapsed": false,
     "input": [
      "view = clients.load_balanced_view()\n",
      "%timeit view.map(mul, [5, 6, 7, 8], [8, 9, 10, 11])"
     ],
     "language": "python",
     "metadata": {},
     "outputs": [
      {
       "output_type": "stream",
       "stream": "stdout",
       "text": [
        "100 loops, best of 3: 13.4 ms per loop\n"
       ]
      }
     ],
     "prompt_number": 7
    },
    {
     "cell_type": "markdown",
     "metadata": {},
     "source": [
      "This is the basic interface to parallel computation in IPython!"
     ]
    },
    {
     "cell_type": "markdown",
     "metadata": {},
     "source": [
      "## Basic Concepts\n",
      "\n",
      "### The Client\n",
      "The client is a lightweight handle on all the engines of a cluster:"
     ]
    },
    {
     "cell_type": "code",
     "collapsed": false,
     "input": [
      "clients = parallel.Client(profile='default')\n",
      "print(len(clients))"
     ],
     "language": "python",
     "metadata": {},
     "outputs": [
      {
       "output_type": "stream",
       "stream": "stdout",
       "text": [
        "4\n"
       ]
      }
     ],
     "prompt_number": 8
    },
    {
     "cell_type": "markdown",
     "metadata": {},
     "source": [
      "### Views\n",
      "Views provide the fundamental ways of accessing the clients.  There are two types of views:\n",
      "\n",
      "#### Direct View\n",
      "A direct view allows direct execution of a command on *all* the engines:"
     ]
    },
    {
     "cell_type": "code",
     "collapsed": false,
     "input": [
      "clients.block = True\n",
      "dview = clients.direct_view()\n",
      "dview.block = True\n",
      "print(dview)"
     ],
     "language": "python",
     "metadata": {},
     "outputs": [
      {
       "output_type": "stream",
       "stream": "stdout",
       "text": [
        "<DirectView all>\n"
       ]
      }
     ],
     "prompt_number": 9
    },
    {
     "cell_type": "code",
     "collapsed": false,
     "input": [
      "dview.apply(sum, [1, 2, 3])"
     ],
     "language": "python",
     "metadata": {},
     "outputs": [
      {
       "metadata": {},
       "output_type": "pyout",
       "prompt_number": 10,
       "text": [
        "[6, 6, 6, 6]"
       ]
      }
     ],
     "prompt_number": 10
    },
    {
     "cell_type": "markdown",
     "metadata": {},
     "source": [
      "You can also obtain a Direct view by slicing the ``Clients`` object:"
     ]
    },
    {
     "cell_type": "code",
     "collapsed": false,
     "input": [
      "clients[::2]"
     ],
     "language": "python",
     "metadata": {},
     "outputs": [
      {
       "metadata": {},
       "output_type": "pyout",
       "prompt_number": 11,
       "text": [
        "<DirectView [0, 2]>"
       ]
      }
     ],
     "prompt_number": 11
    },
    {
     "cell_type": "code",
     "collapsed": false,
     "input": [
      "clients[::2].apply(sum, [1, 2, 3])"
     ],
     "language": "python",
     "metadata": {},
     "outputs": [
      {
       "metadata": {},
       "output_type": "pyout",
       "prompt_number": 12,
       "text": [
        "[6, 6]"
       ]
      }
     ],
     "prompt_number": 12
    },
    {
     "cell_type": "markdown",
     "metadata": {},
     "source": [
      "#### Load Balanced View\n",
      "\n",
      "A load balanced view allows execution of a command on *any one* engine.  Which engine is used is up to the scheduler:"
     ]
    },
    {
     "cell_type": "code",
     "collapsed": false,
     "input": [
      "lview = clients.load_balanced_view()\n",
      "print(lview)"
     ],
     "language": "python",
     "metadata": {},
     "outputs": [
      {
       "output_type": "stream",
       "stream": "stdout",
       "text": [
        "<LoadBalancedView None>\n"
       ]
      }
     ],
     "prompt_number": 13
    },
    {
     "cell_type": "code",
     "collapsed": false,
     "input": [
      "lview.apply(sum, [1, 2, 3])"
     ],
     "language": "python",
     "metadata": {},
     "outputs": [
      {
       "metadata": {},
       "output_type": "pyout",
       "prompt_number": 14,
       "text": [
        "6"
       ]
      }
     ],
     "prompt_number": 14
    },
    {
     "cell_type": "markdown",
     "metadata": {},
     "source": [
      "### Introspection: looking at the Process ID\n",
      "\n",
      "One way to introspect what's going on is to get the Process ID of the engines.\n",
      "This gives a unique label of any running process on your computer.  If you have\n",
      "a cluster running on multiple computers, you can also print the hostname to see\n",
      "which host each cluster is running on:"
     ]
    },
    {
     "cell_type": "code",
     "collapsed": false,
     "input": [
      "import os\n",
      "import socket\n",
      "print(os.getpid())\n",
      "print(socket.gethostname())"
     ],
     "language": "python",
     "metadata": {},
     "outputs": [
      {
       "output_type": "stream",
       "stream": "stdout",
       "text": [
        "96034\n",
        "jakesmac\n"
       ]
      }
     ],
     "prompt_number": 15
    },
    {
     "cell_type": "code",
     "collapsed": false,
     "input": [
      "dview.apply(os.getpid)"
     ],
     "language": "python",
     "metadata": {},
     "outputs": [
      {
       "metadata": {},
       "output_type": "pyout",
       "prompt_number": 16,
       "text": [
        "[96042, 96043, 96044, 96045]"
       ]
      }
     ],
     "prompt_number": 16
    },
    {
     "cell_type": "code",
     "collapsed": false,
     "input": [
      "for i in range(10):\n",
      "    print(lview.apply(os.getpid))"
     ],
     "language": "python",
     "metadata": {},
     "outputs": [
      {
       "output_type": "stream",
       "stream": "stdout",
       "text": [
        "96044\n",
        "96042\n",
        "96043\n",
        "96045\n",
        "96044\n",
        "96042\n",
        "96043\n",
        "96045\n",
        "96044"
       ]
      },
      {
       "output_type": "stream",
       "stream": "stdout",
       "text": [
        "\n",
        "96042\n"
       ]
      }
     ],
     "prompt_number": 17
    },
    {
     "cell_type": "markdown",
     "metadata": {},
     "source": [
      "Notice that the load-balanced view chooses engines somewhat randomly (it's not actually random, but is based on a process which is opaque to the user)."
     ]
    },
    {
     "cell_type": "markdown",
     "metadata": {},
     "source": [
      "## Working with Direct Views:\n",
      "\n",
      "The direct view is an interface in which **each engine is directly exposed to the user**.\n",
      "\n",
      "The direct view is a very flexible wrapper of the client.  Let's look at a few ways of managing remote execution and remote data with direct views.  We'll look at the following:\n",
      "\n",
      "- Blocking vs. non-blocking execution\n",
      "- Ways to manage remote execution\n",
      "- Ways to manage & access remote data"
     ]
    },
    {
     "cell_type": "code",
     "collapsed": false,
     "input": [
      "clients = parallel.Client()\n",
      "dview = clients[:]"
     ],
     "language": "python",
     "metadata": {},
     "outputs": [],
     "prompt_number": 18
    },
    {
     "cell_type": "markdown",
     "metadata": {},
     "source": [
      "### DirectView: blocking vs. non-blocking\n",
      "\n",
      "In a DirectView interface, we can either use **Blocking** (synchronous) execution, in which all results must finish computing before any results are recorded, or **non-blocking** (asynchronous) execution, where we receive results as they finish.\n",
      "\n",
      "Here's an example of the two:"
     ]
    },
    {
     "cell_type": "code",
     "collapsed": false,
     "input": [
      "def get_pid_slowly():\n",
      "    # imports specified within the function definition,\n",
      "    # otherwise these packages will not be available on\n",
      "    # the engines (see below for a better way to approach this)\n",
      "    import os\n",
      "    import time\n",
      "    import random\n",
      "    \n",
      "    # sleep up to 10 seconds\n",
      "    time.sleep(10 * random.random())\n",
      "    return os.getpid()"
     ],
     "language": "python",
     "metadata": {},
     "outputs": [],
     "prompt_number": 19
    },
    {
     "cell_type": "code",
     "collapsed": false,
     "input": [
      "dview.block = True\n",
      "dview.apply(get_pid_slowly)"
     ],
     "language": "python",
     "metadata": {},
     "outputs": [
      {
       "metadata": {},
       "output_type": "pyout",
       "prompt_number": 20,
       "text": [
        "[96042, 96043, 96044, 96045]"
       ]
      }
     ],
     "prompt_number": 20
    },
    {
     "cell_type": "markdown",
     "metadata": {},
     "source": [
      "Notice that all three results come back at the same time, after all are finished computing.\n",
      "\n",
      "Let's now see what happens if we use non-blocking execution:"
     ]
    },
    {
     "cell_type": "code",
     "collapsed": false,
     "input": [
      "dview.block = False\n",
      "dview.apply(get_pid_slowly)"
     ],
     "language": "python",
     "metadata": {},
     "outputs": [
      {
       "metadata": {},
       "output_type": "pyout",
       "prompt_number": 21,
       "text": [
        "<AsyncResult: get_pid_slowly>"
       ]
      }
     ],
     "prompt_number": 21
    },
    {
     "cell_type": "markdown",
     "metadata": {},
     "source": [
      "What is returned is an ``AsyncResult`` object."
     ]
    },
    {
     "cell_type": "code",
     "collapsed": false,
     "input": [
      "res = dview.apply(get_pid_slowly)"
     ],
     "language": "python",
     "metadata": {},
     "outputs": [],
     "prompt_number": 22
    },
    {
     "cell_type": "code",
     "collapsed": false,
     "input": [
      "res.ready()"
     ],
     "language": "python",
     "metadata": {},
     "outputs": [
      {
       "metadata": {},
       "output_type": "pyout",
       "prompt_number": 23,
       "text": [
        "False"
       ]
      }
     ],
     "prompt_number": 23
    },
    {
     "cell_type": "markdown",
     "metadata": {},
     "source": [
      "We can ask if the result is ready using the ``ready()`` command.  Once it's ready, we can get the result with the ``get()`` command"
     ]
    },
    {
     "cell_type": "code",
     "collapsed": false,
     "input": [
      "res.ready()"
     ],
     "language": "python",
     "metadata": {},
     "outputs": [
      {
       "metadata": {},
       "output_type": "pyout",
       "prompt_number": 24,
       "text": [
        "False"
       ]
      }
     ],
     "prompt_number": 24
    },
    {
     "cell_type": "code",
     "collapsed": false,
     "input": [
      "res.get()"
     ],
     "language": "python",
     "metadata": {},
     "outputs": [
      {
       "metadata": {},
       "output_type": "pyout",
       "prompt_number": 25,
       "text": [
        "[96042, 96043, 96044, 96045]"
       ]
      }
     ],
     "prompt_number": 25
    },
    {
     "cell_type": "markdown",
     "metadata": {},
     "source": [
      "For convenience, you can also use the ``apply_sync`` and ``apply_async`` commands"
     ]
    },
    {
     "cell_type": "code",
     "collapsed": false,
     "input": [
      "dview.apply_sync(get_pid_slowly)"
     ],
     "language": "python",
     "metadata": {},
     "outputs": [
      {
       "metadata": {},
       "output_type": "pyout",
       "prompt_number": 26,
       "text": [
        "[96042, 96043, 96044, 96045]"
       ]
      }
     ],
     "prompt_number": 26
    },
    {
     "cell_type": "code",
     "collapsed": false,
     "input": [
      "dview.apply_async(get_pid_slowly)"
     ],
     "language": "python",
     "metadata": {},
     "outputs": [
      {
       "metadata": {},
       "output_type": "pyout",
       "prompt_number": 27,
       "text": [
        "<AsyncResult: get_pid_slowly>"
       ]
      }
     ],
     "prompt_number": 27
    },
    {
     "cell_type": "markdown",
     "metadata": {},
     "source": [
      "### DirectView: Remote Imports\n",
      "\n",
      "You might notice that you get errors if you've not imported certain modules on the engines.  For example:"
     ]
    },
    {
     "cell_type": "code",
     "collapsed": false,
     "input": [
      "import numpy\n",
      "def normalize_vector(v):\n",
      "    return numpy.asarray(v) / numpy.linalg.norm(v)"
     ],
     "language": "python",
     "metadata": {},
     "outputs": [],
     "prompt_number": 28
    },
    {
     "cell_type": "code",
     "collapsed": false,
     "input": [
      "x = numpy.random.random(5)\n",
      "normalize_vector(x)"
     ],
     "language": "python",
     "metadata": {},
     "outputs": [
      {
       "metadata": {},
       "output_type": "pyout",
       "prompt_number": 29,
       "text": [
        "array([ 0.43372786,  0.31450391,  0.53534489,  0.43365609,  0.48817587])"
       ]
      }
     ],
     "prompt_number": 29
    },
    {
     "cell_type": "code",
     "collapsed": false,
     "input": [
      "dview.block = True\n",
      "dview.apply(normalize_vector, x)"
     ],
     "language": "python",
     "metadata": {},
     "outputs": [
      {
       "ename": "CompositeError",
       "evalue": "one or more exceptions from call to method: normalize_vector\n[0:apply]: NameError: global name 'numpy' is not defined\n[1:apply]: NameError: global name 'numpy' is not defined\n[2:apply]: NameError: global name 'numpy' is not defined\n[3:apply]: NameError: global name 'numpy' is not defined",
       "output_type": "pyerr",
       "traceback": [
        "[0:apply]: ",
        "\u001b[0;31m---------------------------------------------------------------------------\u001b[0m",
        "\u001b[0;31mNameError\u001b[0m                                 Traceback (most recent call last)\u001b[0;32m<string>\u001b[0m in \u001b[0;36m<module>\u001b[0;34m()\u001b[0m",
        "\u001b[0;32m<ipython-input-28-bb245818ec0d>\u001b[0m in \u001b[0;36mnormalize_vector\u001b[0;34m(v)\u001b[0m",
        "\u001b[0;31mNameError\u001b[0m: global name 'numpy' is not defined",
        "",
        "[1:apply]: ",
        "\u001b[0;31m---------------------------------------------------------------------------\u001b[0m",
        "\u001b[0;31mNameError\u001b[0m                                 Traceback (most recent call last)\u001b[0;32m<string>\u001b[0m in \u001b[0;36m<module>\u001b[0;34m()\u001b[0m",
        "\u001b[0;32m<ipython-input-28-bb245818ec0d>\u001b[0m in \u001b[0;36mnormalize_vector\u001b[0;34m(v)\u001b[0m",
        "\u001b[0;31mNameError\u001b[0m: global name 'numpy' is not defined",
        "",
        "[2:apply]: ",
        "\u001b[0;31m---------------------------------------------------------------------------\u001b[0m",
        "\u001b[0;31mNameError\u001b[0m                                 Traceback (most recent call last)\u001b[0;32m<string>\u001b[0m in \u001b[0;36m<module>\u001b[0;34m()\u001b[0m",
        "\u001b[0;32m<ipython-input-28-bb245818ec0d>\u001b[0m in \u001b[0;36mnormalize_vector\u001b[0;34m(v)\u001b[0m",
        "\u001b[0;31mNameError\u001b[0m: global name 'numpy' is not defined",
        "",
        "[3:apply]: ",
        "\u001b[0;31m---------------------------------------------------------------------------\u001b[0m",
        "\u001b[0;31mNameError\u001b[0m                                 Traceback (most recent call last)\u001b[0;32m<string>\u001b[0m in \u001b[0;36m<module>\u001b[0;34m()\u001b[0m",
        "\u001b[0;32m<ipython-input-28-bb245818ec0d>\u001b[0m in \u001b[0;36mnormalize_vector\u001b[0;34m(v)\u001b[0m",
        "\u001b[0;31mNameError\u001b[0m: global name 'numpy' is not defined",
        ""
       ]
      }
     ],
     "prompt_number": 30
    },
    {
     "cell_type": "markdown",
     "metadata": {},
     "source": [
      "Though we've imported ``numpy`` on our *local* engine, we haven't imported ``numpy`` on any of our other engines, so the code won't work.\n",
      "\n",
      "There are a few ways to execute imports on other engines.  We can do this directly with the ``execute`` method:"
     ]
    },
    {
     "cell_type": "code",
     "collapsed": false,
     "input": [
      "dview.execute('import numpy')"
     ],
     "language": "python",
     "metadata": {},
     "outputs": [
      {
       "metadata": {},
       "output_type": "pyout",
       "prompt_number": 31,
       "text": [
        "<AsyncResult: finished>"
       ]
      }
     ],
     "prompt_number": 31
    },
    {
     "cell_type": "markdown",
     "metadata": {},
     "source": [
      "Alternatively, we can use the ``sync_imports`` context manager to make this happen:"
     ]
    },
    {
     "cell_type": "code",
     "collapsed": false,
     "input": [
      "with dview.sync_imports():\n",
      "    import numpy"
     ],
     "language": "python",
     "metadata": {},
     "outputs": [
      {
       "output_type": "stream",
       "stream": "stdout",
       "text": [
        "importing numpy on engine(s)\n"
       ]
      }
     ],
     "prompt_number": 32
    },
    {
     "cell_type": "markdown",
     "metadata": {},
     "source": [
      "Or, we can use the ``px`` (parallel execute) magic function to execute the contents of the cell on every engine:"
     ]
    },
    {
     "cell_type": "code",
     "collapsed": false,
     "input": [
      "%px import numpy"
     ],
     "language": "python",
     "metadata": {},
     "outputs": [],
     "prompt_number": 33
    },
    {
     "cell_type": "markdown",
     "metadata": {},
     "source": [
      "After doing any one of these, we're able to run our function and see the results:"
     ]
    },
    {
     "cell_type": "code",
     "collapsed": false,
     "input": [
      "dview.apply(normalize_vector, x)"
     ],
     "language": "python",
     "metadata": {},
     "outputs": [
      {
       "metadata": {},
       "output_type": "pyout",
       "prompt_number": 34,
       "text": [
        "[array([ 0.43372786,  0.31450391,  0.53534489,  0.43365609,  0.48817587]),\n",
        " array([ 0.43372786,  0.31450391,  0.53534489,  0.43365609,  0.48817587]),\n",
        " array([ 0.43372786,  0.31450391,  0.53534489,  0.43365609,  0.48817587]),\n",
        " array([ 0.43372786,  0.31450391,  0.53534489,  0.43365609,  0.48817587])]"
       ]
      }
     ],
     "prompt_number": 34
    },
    {
     "cell_type": "markdown",
     "metadata": {},
     "source": [
      "### DirectView: running scripts remotely\n",
      "\n",
      "We can use a direct view to run a given script on each client.  For example, let's look at the following script:"
     ]
    },
    {
     "cell_type": "code",
     "collapsed": false,
     "input": [
      "%%file myscript.py\n",
      "import numpy\n",
      "\n",
      "a = 5\n",
      "\n",
      "def square(x):\n",
      "    return x * x"
     ],
     "language": "python",
     "metadata": {},
     "outputs": [
      {
       "output_type": "stream",
       "stream": "stdout",
       "text": [
        "Overwriting myscript.py\n"
       ]
      }
     ],
     "prompt_number": 35
    },
    {
     "cell_type": "markdown",
     "metadata": {},
     "source": [
      "Now we can run this script on each of our clients:"
     ]
    },
    {
     "cell_type": "code",
     "collapsed": false,
     "input": [
      "dview.run(\"myscript.py\")"
     ],
     "language": "python",
     "metadata": {},
     "outputs": [
      {
       "metadata": {},
       "output_type": "pyout",
       "prompt_number": 36,
       "text": [
        "<AsyncResult: finished>"
       ]
      }
     ],
     "prompt_number": 36
    },
    {
     "cell_type": "markdown",
     "metadata": {},
     "source": [
      "To look at the data, let's use the dictionary interface:"
     ]
    },
    {
     "cell_type": "code",
     "collapsed": false,
     "input": [
      "print(dview['a'])"
     ],
     "language": "python",
     "metadata": {},
     "outputs": [
      {
       "output_type": "stream",
       "stream": "stdout",
       "text": [
        "[5, 5, 5, 5]\n"
       ]
      }
     ],
     "prompt_number": 37
    },
    {
     "cell_type": "code",
     "collapsed": false,
     "input": [
      "print(dview['square'])"
     ],
     "language": "python",
     "metadata": {},
     "outputs": [
      {
       "output_type": "stream",
       "stream": "stdout",
       "text": [
        "[<function square at 0x105735230>, <function square at 0x1057352a8>, <function square at 0x105735320>, <function square at 0x105735398>]\n"
       ]
      }
     ],
     "prompt_number": 38
    },
    {
     "cell_type": "markdown",
     "metadata": {},
     "source": [
      "We can also use the dictionary interface to assign data:"
     ]
    },
    {
     "cell_type": "code",
     "collapsed": false,
     "input": [
      "dview['b'] = 4\n",
      "print(dview['b'])"
     ],
     "language": "python",
     "metadata": {},
     "outputs": [
      {
       "output_type": "stream",
       "stream": "stdout",
       "text": [
        "[4, 4, 4, 4]\n"
       ]
      }
     ],
     "prompt_number": 39
    },
    {
     "cell_type": "markdown",
     "metadata": {},
     "source": [
      "Now the variables ``a`` and ``b`` are defined globally on all our engines."
     ]
    },
    {
     "cell_type": "markdown",
     "metadata": {},
     "source": [
      "### DirectView: execute() method\n",
      "\n",
      "Code can also be executed directly on the engine by passing strings to the engines.\n",
      "First, let's look at the definitions of ``a`` and ``b`` on our engines:"
     ]
    },
    {
     "cell_type": "code",
     "collapsed": false,
     "input": [
      "print(dview['a'])\n",
      "print(dview['b'])"
     ],
     "language": "python",
     "metadata": {},
     "outputs": [
      {
       "output_type": "stream",
       "stream": "stdout",
       "text": [
        "[5, 5, 5, 5]\n",
        "[4, 4, 4, 4]\n"
       ]
      }
     ],
     "prompt_number": 40
    },
    {
     "cell_type": "markdown",
     "metadata": {},
     "source": [
      "Now we'll use ``execute()`` to add ``a`` and ``b`` and save the result to ``c``:"
     ]
    },
    {
     "cell_type": "code",
     "collapsed": false,
     "input": [
      "dview.execute('c=a+b')"
     ],
     "language": "python",
     "metadata": {},
     "outputs": [
      {
       "metadata": {},
       "output_type": "pyout",
       "prompt_number": 41,
       "text": [
        "<AsyncResult: finished>"
       ]
      }
     ],
     "prompt_number": 41
    },
    {
     "cell_type": "code",
     "collapsed": false,
     "input": [
      "dview['c']"
     ],
     "language": "python",
     "metadata": {},
     "outputs": [
      {
       "metadata": {},
       "output_type": "pyout",
       "prompt_number": 42,
       "text": [
        "[9, 9, 9, 9]"
       ]
      }
     ],
     "prompt_number": 42
    },
    {
     "cell_type": "markdown",
     "metadata": {},
     "source": [
      "We can also execute code on any subset of the engines:"
     ]
    },
    {
     "cell_type": "code",
     "collapsed": false,
     "input": [
      "clients[:2].execute('c=a*b')"
     ],
     "language": "python",
     "metadata": {},
     "outputs": [
      {
       "metadata": {},
       "output_type": "pyout",
       "prompt_number": 43,
       "text": [
        "<AsyncResult: execute>"
       ]
      }
     ],
     "prompt_number": 43
    },
    {
     "cell_type": "code",
     "collapsed": false,
     "input": [
      "dview['c']"
     ],
     "language": "python",
     "metadata": {},
     "outputs": [
      {
       "metadata": {},
       "output_type": "pyout",
       "prompt_number": 44,
       "text": [
        "[20, 20, 9, 9]"
       ]
      }
     ],
     "prompt_number": 44
    },
    {
     "cell_type": "markdown",
     "metadata": {},
     "source": [
      "Note that ``c`` has only changed on the two engines we specified!\n",
      "\n",
      "This is the basic way to push and pull data to and from the client and engines."
     ]
    },
    {
     "cell_type": "markdown",
     "metadata": {},
     "source": [
      "### Parallel Magics\n",
      "\n",
      "We saw this above, but one nice way to interface to the clients is through the ``%px`` magic functions.  This works only within the IPython notebook, but is a nice shortcut for simple parallel execution.  Basically, anything after the ``%px`` on a line is executed on every engine:"
     ]
    },
    {
     "cell_type": "code",
     "collapsed": false,
     "input": [
      "%px c = numpy.random.random(3)\n",
      "%px print(c)"
     ],
     "language": "python",
     "metadata": {},
     "outputs": [
      {
       "output_type": "stream",
       "stream": "stdout",
       "text": [
        "[stdout:0] [ 0.99272591  0.60804957  0.49630754]\n",
        "[stdout:1] [ 0.87751462  0.43337041  0.05960067]\n",
        "[stdout:2] [ 0.1989227   0.14894867  0.04421783]\n",
        "[stdout:3] [ 0.26940848  0.47160663  0.45175608]\n"
       ]
      }
     ],
     "prompt_number": 45
    },
    {
     "cell_type": "markdown",
     "metadata": {},
     "source": [
      "If you want to execute multiple lines at once, you can use the ``%%px`` cell magic to do this:"
     ]
    },
    {
     "cell_type": "code",
     "collapsed": false,
     "input": [
      "%%px\n",
      "c = numpy.random.random(5)\n",
      "c *= a\n",
      "print(c)"
     ],
     "language": "python",
     "metadata": {},
     "outputs": [
      {
       "output_type": "stream",
       "stream": "stdout",
       "text": [
        "[stdout:0] [ 1.40487704  2.68775479  2.62187026  4.78612446  2.74083102]\n",
        "[stdout:1] [ 1.69280905  3.87342438  1.90842801  2.4025612   3.66046737]\n",
        "[stdout:2] [ 3.91458235  4.28375863  1.36573029  0.55202639  3.29608013]\n",
        "[stdout:3] [ 1.14519349  4.28968592  0.86009187  4.01830079  1.52498093]\n"
       ]
      }
     ],
     "prompt_number": 46
    },
    {
     "cell_type": "markdown",
     "metadata": {},
     "source": [
      "Again, we can access the variables directly using the dictionary interface:"
     ]
    },
    {
     "cell_type": "code",
     "collapsed": false,
     "input": [
      "dview['c']"
     ],
     "language": "python",
     "metadata": {},
     "outputs": [
      {
       "metadata": {},
       "output_type": "pyout",
       "prompt_number": 47,
       "text": [
        "[array([ 1.40487704,  2.68775479,  2.62187026,  4.78612446,  2.74083102]),\n",
        " array([ 1.69280905,  3.87342438,  1.90842801,  2.4025612 ,  3.66046737]),\n",
        " array([ 3.91458235,  4.28375863,  1.36573029,  0.55202639,  3.29608013]),\n",
        " array([ 1.14519349,  4.28968592,  0.86009187,  4.01830079,  1.52498093])]"
       ]
      }
     ],
     "prompt_number": 47
    },
    {
     "cell_type": "markdown",
     "metadata": {},
     "source": [
      "### DirectView: Scatter and Gather\n",
      "\n",
      "One very useful way to push and pull data is using the ``scatter()`` and ``gather()`` commands.  This will take an array and partition it among the parallel instances:"
     ]
    },
    {
     "cell_type": "code",
     "collapsed": false,
     "input": [
      "import numpy as np\n",
      "dview.scatter('a', np.arange(24))\n",
      "dview['a']"
     ],
     "language": "python",
     "metadata": {},
     "outputs": [
      {
       "metadata": {},
       "output_type": "pyout",
       "prompt_number": 48,
       "text": [
        "[array([0, 1, 2, 3, 4, 5]),\n",
        " array([ 6,  7,  8,  9, 10, 11]),\n",
        " array([12, 13, 14, 15, 16, 17]),\n",
        " array([18, 19, 20, 21, 22, 23])]"
       ]
      }
     ],
     "prompt_number": 48
    },
    {
     "cell_type": "markdown",
     "metadata": {},
     "source": [
      "Notice that the contents of ``a`` are partitioned and scattered among the instances.  To bring them back, we can use ``gather()``:"
     ]
    },
    {
     "cell_type": "code",
     "collapsed": false,
     "input": [
      "a = dview.gather('a')\n",
      "a"
     ],
     "language": "python",
     "metadata": {},
     "outputs": [
      {
       "metadata": {},
       "output_type": "pyout",
       "prompt_number": 49,
       "text": [
        "array([ 0,  1,  2,  3,  4,  5,  6,  7,  8,  9, 10, 11, 12, 13, 14, 15, 16,\n",
        "       17, 18, 19, 20, 21, 22, 23])"
       ]
      }
     ],
     "prompt_number": 49
    },
    {
     "cell_type": "markdown",
     "metadata": {},
     "source": [
      "So, for example, you might do an operation something like this:"
     ]
    },
    {
     "cell_type": "code",
     "collapsed": false,
     "input": [
      "x = np.random.random(400)\n",
      "dview.scatter('x', x)\n",
      "dview.execute('y = numpy.sqrt(x)')\n",
      "y = dview.gather('y')\n",
      "\n",
      "print(np.allclose(y, np.sqrt(x)))"
     ],
     "language": "python",
     "metadata": {},
     "outputs": [
      {
       "output_type": "stream",
       "stream": "stdout",
       "text": [
        "True\n"
       ]
      }
     ],
     "prompt_number": 50
    },
    {
     "cell_type": "markdown",
     "metadata": {},
     "source": [
      "This is a somewhat trivial computation, but if you had a larger computation that could be done on partitions of the data, it would allow you to speed your calculation according to the number of cores available."
     ]
    },
    {
     "cell_type": "markdown",
     "metadata": {},
     "source": [
      "### Example: distributed linear algebra\n",
      "\n",
      "Let's write a simple example of doing distributed linear algebra. Note that this will not necessarily be more performant than an in-memory solution, but it is illustrative of the types of operations we can use to parallelize other problems.\n",
      "\n",
      "We'll start with a simple example of vector-vector multiplication:"
     ]
    },
    {
     "cell_type": "code",
     "collapsed": false,
     "input": [
      "v1 = np.random.random(1001)\n",
      "v2 = np.random.random(1001)\n",
      "np.dot(v1, v2)"
     ],
     "language": "python",
     "metadata": {},
     "outputs": [
      {
       "metadata": {},
       "output_type": "pyout",
       "prompt_number": 51,
       "text": [
        "241.90647352405799"
       ]
      }
     ],
     "prompt_number": 51
    },
    {
     "cell_type": "code",
     "collapsed": false,
     "input": [
      "dview.scatter('v1', v1)\n",
      "for chunk in dview['v1']:\n",
      "    print chunk.shape"
     ],
     "language": "python",
     "metadata": {},
     "outputs": [
      {
       "output_type": "stream",
       "stream": "stdout",
       "text": [
        "(251,)\n",
        "(250,)\n",
        "(250,)\n",
        "(250,)\n"
       ]
      }
     ],
     "prompt_number": 52
    },
    {
     "cell_type": "code",
     "collapsed": false,
     "input": [
      "def parallel_dot(dview, v1, v2):\n",
      "    dview.scatter('v1', v1)\n",
      "    dview.scatter('v2', v2)\n",
      "    dview.execute('v1v2 = numpy.dot(v1, v2)')\n",
      "    return sum(dview.gather('v1v2'))"
     ],
     "language": "python",
     "metadata": {},
     "outputs": [],
     "prompt_number": 53
    },
    {
     "cell_type": "code",
     "collapsed": false,
     "input": [
      "result1 = np.dot(v1, v2)\n",
      "result2 = parallel_dot(dview, v1, v2)\n",
      "\n",
      "print(result1)\n",
      "print(result2)\n",
      "print(np.allclose(result1, result2))"
     ],
     "language": "python",
     "metadata": {},
     "outputs": [
      {
       "output_type": "stream",
       "stream": "stdout",
       "text": [
        "241.906473524\n",
        "241.906473524\n",
        "True\n"
       ]
      }
     ],
     "prompt_number": 54
    },
    {
     "cell_type": "markdown",
     "metadata": {},
     "source": [
      "### Exercise #1\n",
      "\n",
      "Take this one step further: create a function which computes a matrix-matrix product in parallel:"
     ]
    },
    {
     "cell_type": "code",
     "collapsed": false,
     "input": [
      "M1 = np.random.random((500, 1000))\n",
      "M2 = np.random.random((1000, 50))\n",
      "\n",
      "result = np.dot(M1, M2)\n",
      "print(result.shape)"
     ],
     "language": "python",
     "metadata": {},
     "outputs": [
      {
       "output_type": "stream",
       "stream": "stdout",
       "text": [
        "(500, 50)\n"
       ]
      }
     ],
     "prompt_number": 55
    },
    {
     "cell_type": "markdown",
     "metadata": {},
     "source": [
      "**Tips:**\n",
      "\n",
      "- What happens when you use ``dview.scatter`` on a matrix? What are the shapes of the resulting chunks?\n",
      "\n",
      "- If you scatter one matrix in this manner, what parts of the other matrix must it interact with?\n",
      "\n",
      "- Once you have an answer, use ``np.allclose`` to compare it to the serial result above."
     ]
    },
    {
     "cell_type": "code",
     "collapsed": false,
     "input": [],
     "language": "python",
     "metadata": {},
     "outputs": [],
     "prompt_number": 55
    },
    {
     "cell_type": "markdown",
     "metadata": {},
     "source": [
      "## Working with Load-balanced Views\n",
      "\n",
      "Direct views are a nice low-level interface to the clients, but for most tasks it can be more helpful to use Load-balanced views.\n",
      "\n",
      "A load-balanced view is a fault-tolerant way to distribute tasks among the engines.  While there is no direct access to individual engines, it provides a simple and powerful interface."
     ]
    },
    {
     "cell_type": "code",
     "collapsed": false,
     "input": [
      "lview = clients.load_balanced_view()"
     ],
     "language": "python",
     "metadata": {},
     "outputs": [],
     "prompt_number": 56
    },
    {
     "cell_type": "code",
     "collapsed": false,
     "input": [
      "def sleep_and_return(factor=10):\n",
      "    import time\n",
      "    import random\n",
      "    r = factor * random.random()\n",
      "    time.sleep(r)\n",
      "    return r"
     ],
     "language": "python",
     "metadata": {},
     "outputs": [],
     "prompt_number": 57
    },
    {
     "cell_type": "code",
     "collapsed": false,
     "input": [
      "lview.block = True\n",
      "lview.apply(sleep_and_return, 1)"
     ],
     "language": "python",
     "metadata": {},
     "outputs": [
      {
       "metadata": {},
       "output_type": "pyout",
       "prompt_number": 58,
       "text": [
        "0.043099236879013736"
       ]
      }
     ],
     "prompt_number": 58
    },
    {
     "cell_type": "markdown",
     "metadata": {},
     "source": [
      "Using ``apply`` on a load balanced view simply executes the function once.\n",
      "\n",
      "We can use the ``map`` function to execute multiple inputs.  We'll use ``block=False`` to make sure the results come asynchronously:"
     ]
    },
    {
     "cell_type": "code",
     "collapsed": false,
     "input": [
      "lview.block = False\n",
      "res = lview.map(sleep_and_return, range(10))"
     ],
     "language": "python",
     "metadata": {},
     "outputs": [],
     "prompt_number": 59
    },
    {
     "cell_type": "code",
     "collapsed": false,
     "input": [
      "res.ready()"
     ],
     "language": "python",
     "metadata": {},
     "outputs": [
      {
       "metadata": {},
       "output_type": "pyout",
       "prompt_number": 60,
       "text": [
        "False"
       ]
      }
     ],
     "prompt_number": 60
    },
    {
     "cell_type": "code",
     "collapsed": false,
     "input": [
      "res.result"
     ],
     "language": "python",
     "metadata": {},
     "outputs": [
      {
       "metadata": {},
       "output_type": "pyout",
       "prompt_number": 61,
       "text": [
        "[0.0,\n",
        " 0.757331417970268,\n",
        " 0.21794813491634168,\n",
        " 2.2421372206436656,\n",
        " 1.40034673400982,\n",
        " 3.6383043627542633,\n",
        " 1.5444530276111113,\n",
        " 0.49300042058392823,\n",
        " 3.672245840440209,\n",
        " 3.953357465282915]"
       ]
      }
     ],
     "prompt_number": 61
    },
    {
     "cell_type": "markdown",
     "metadata": {},
     "source": [
      "The ``progress`` attribute tells us how many of the jobs have been completed up to this point:"
     ]
    },
    {
     "cell_type": "code",
     "collapsed": false,
     "input": [
      "import time\n",
      "while not res.ready():\n",
      "    time.sleep(1)\n",
      "    print(res.progress)"
     ],
     "language": "python",
     "metadata": {},
     "outputs": [],
     "prompt_number": 62
    },
    {
     "cell_type": "markdown",
     "metadata": {},
     "source": [
      "Once all the results are finished, we can use the ``result`` attribute to get at them:"
     ]
    },
    {
     "cell_type": "code",
     "collapsed": false,
     "input": [
      "res.result"
     ],
     "language": "python",
     "metadata": {},
     "outputs": [
      {
       "metadata": {},
       "output_type": "pyout",
       "prompt_number": 63,
       "text": [
        "[0.0,\n",
        " 0.757331417970268,\n",
        " 0.21794813491634168,\n",
        " 2.2421372206436656,\n",
        " 1.40034673400982,\n",
        " 3.6383043627542633,\n",
        " 1.5444530276111113,\n",
        " 0.49300042058392823,\n",
        " 3.672245840440209,\n",
        " 3.953357465282915]"
       ]
      }
     ],
     "prompt_number": 63
    },
    {
     "cell_type": "markdown",
     "metadata": {},
     "source": [
      "The load-balanced view also includes an iterator which will return results as they come in:"
     ]
    },
    {
     "cell_type": "code",
     "collapsed": false,
     "input": [
      "for result in lview.map(sleep_and_return, range(10)):\n",
      "    print(result)"
     ],
     "language": "python",
     "metadata": {},
     "outputs": [
      {
       "output_type": "stream",
       "stream": "stdout",
       "text": [
        "0.0\n",
        "0.789139198975"
       ]
      },
      {
       "output_type": "stream",
       "stream": "stdout",
       "text": [
        "\n",
        "0.305937407767\n",
        "2.92219764485"
       ]
      },
      {
       "output_type": "stream",
       "stream": "stdout",
       "text": [
        "\n",
        "2.40281197798\n",
        "2.59471807108\n",
        "1.88049132158\n",
        "4.81403538609"
       ]
      },
      {
       "output_type": "stream",
       "stream": "stdout",
       "text": [
        "\n",
        "6.49196073233"
       ]
      },
      {
       "output_type": "stream",
       "stream": "stdout",
       "text": [
        "\n",
        "1.63888939118\n"
       ]
      }
     ],
     "prompt_number": 64
    },
    {
     "cell_type": "markdown",
     "metadata": {},
     "source": [
      "## Exercise 2: Monte Carlo $\\pi$\n",
      "\n",
      "Here you'll do a quick exercise where you estimate $\\pi$ using a rudimentary Monte Carlo method.  Imagine you have a 2x2 square dart board and you randomly throw darts at it."
     ]
    },
    {
     "cell_type": "code",
     "collapsed": false,
     "input": [
      "%matplotlib inline\n",
      "import numpy as np\n",
      "import matplotlib.pyplot as plt\n",
      "import matplotlib as mpl\n",
      "\n",
      "x, y = 2 * np.random.random((2, 500)) - 1\n",
      "\n",
      "ax = plt.axes(aspect='equal', xticks=[], yticks=[], frameon=False)\n",
      "ax.scatter(x, y, c=(x ** 2 + y ** 2 < 1), cmap=plt.cm.binary)\n",
      "ax.add_patch(mpl.patches.Circle((0, 0), 1, zorder=0, fc='#FFAAAA'));"
     ],
     "language": "python",
     "metadata": {},
     "outputs": [
      {
       "metadata": {},
       "output_type": "display_data",
       "png": "[encoded data removed]",
       "text": [
        "<matplotlib.figure.Figure at 0x105d58e10>"
       ]
      }
     ],
     "prompt_number": 66
    },
    {
     "cell_type": "markdown",
     "metadata": {},
     "source": [
      "  The probability that those darts will fall within 1 unit of the center is\n",
      "\n",
      "$$\n",
      "p = \\frac{\\rm Area~of~circle}{Area~of~square} = \\frac{\\pi\\cdot 1^2}{2^2} = \\frac{\\pi}{4}\n",
      "$$\n",
      "\n",
      "So if you throw $N$ darts, you can estimate $\\pi$ to be equal to\n",
      "$$\n",
      "\\pi = 4\\frac{N_{in}}{N}\n",
      "$$\n",
      "\n",
      "Here we'll write a function to estimate $\\pi$ using a random number generator:"
     ]
    },
    {
     "cell_type": "code",
     "collapsed": false,
     "input": [
      "def estimate_pi(N):\n",
      "    r = numpy.random.random((N, 2))\n",
      "    inside = numpy.sum(r ** 2, 1) <= 1\n",
      "    return 4 * inside.sum() * 1. / N"
     ],
     "language": "python",
     "metadata": {},
     "outputs": [],
     "prompt_number": 67
    },
    {
     "cell_type": "code",
     "collapsed": false,
     "input": [
      "estimate_pi(1E6)"
     ],
     "language": "python",
     "metadata": {},
     "outputs": [
      {
       "metadata": {},
       "output_type": "pyout",
       "prompt_number": 68,
       "text": [
        "3.142576"
       ]
      }
     ],
     "prompt_number": 68
    },
    {
     "cell_type": "markdown",
     "metadata": {},
     "source": [
      "Write a function which uses a **Load-balanced View** to parallelize this estimation of pi:\n",
      "\n",
      "**Tips:**\n",
      "\n",
      "- Use ``N x N_per_trial`` random draws to estimate pi\n",
      "\n",
      "- You can use the above ``estimate_pi`` function in your answer\n",
      "\n",
      "- Do you want a blocking or a non-blocking function call?"
     ]
    },
    {
     "cell_type": "code",
     "collapsed": false,
     "input": [
      "def estimate_pi_parallel(N, lview, N_per_trial=1E6):\n",
      "    # your code here:\n",
      "    # distribute the N trials across the load-balanced view,\n",
      "    # using lview.map() and return the average of the results\n",
      "    pass"
     ],
     "language": "python",
     "metadata": {},
     "outputs": [],
     "prompt_number": 69
    },
    {
     "cell_type": "code",
     "collapsed": false,
     "input": [
      "estimate_pi_parallel(100, lview)"
     ],
     "language": "python",
     "metadata": {},
     "outputs": [],
     "prompt_number": 70
    },
    {
     "cell_type": "markdown",
     "metadata": {},
     "source": [
      "Note that this is certainly **not** the best way to estimate $\\pi$, but it demonstrates a simple example of using IPython parallel to do distributed Monte Carlo simulations, which can be **very** useful in practice."
     ]
    },
    {
     "cell_type": "markdown",
     "metadata": {},
     "source": [
      "## Homework\n",
      "\n",
      "The homework assignment involves **parallel cross-validation**. Cross-validation is a process by which you can evaluate how well a machine learning routine is modeling your data. For a review of cross-validation in scikit-learn, you can read through my [Pycon 2014 tutorial](http://nbviewer.ipython.org/github/jakevdp/sklearn_pycon2014/blob/master/notebooks/06_validation.ipynb) on the subject (the full listing of the tutorial is available [here](https://github.com/jakevdp/sklearn_pycon2014#notebook-listing))."
     ]
    },
    {
     "cell_type": "markdown",
     "metadata": {},
     "source": [
      "We'll work with the [20 newsgroups](http://scikit-learn.org/stable/datasets/twenty_newsgroups.html) data, a large corpus of text data available for download through the scikit-learn package:"
     ]
    },
    {
     "cell_type": "code",
     "collapsed": false,
     "input": [
      "from sklearn.datasets import fetch_20newsgroups\n",
      "newsgroups = fetch_20newsgroups()"
     ],
     "language": "python",
     "metadata": {},
     "outputs": [],
     "prompt_number": 71
    },
    {
     "cell_type": "code",
     "collapsed": false,
     "input": [
      "newsgroups.keys()"
     ],
     "language": "python",
     "metadata": {},
     "outputs": [
      {
       "metadata": {},
       "output_type": "pyout",
       "prompt_number": 72,
       "text": [
        "['DESCR', 'data', 'target', 'target_names', 'filenames']"
       ]
      }
     ],
     "prompt_number": 72
    },
    {
     "cell_type": "code",
     "collapsed": false,
     "input": [
      "len(newsgroups.data)"
     ],
     "language": "python",
     "metadata": {},
     "outputs": [
      {
       "metadata": {},
       "output_type": "pyout",
       "prompt_number": 73,
       "text": [
        "11314"
       ]
      }
     ],
     "prompt_number": 73
    },
    {
     "cell_type": "code",
     "collapsed": false,
     "input": [
      "newsgroups.target_names"
     ],
     "language": "python",
     "metadata": {},
     "outputs": [
      {
       "metadata": {},
       "output_type": "pyout",
       "prompt_number": 74,
       "text": [
        "['alt.atheism',\n",
        " 'comp.graphics',\n",
        " 'comp.os.ms-windows.misc',\n",
        " 'comp.sys.ibm.pc.hardware',\n",
        " 'comp.sys.mac.hardware',\n",
        " 'comp.windows.x',\n",
        " 'misc.forsale',\n",
        " 'rec.autos',\n",
        " 'rec.motorcycles',\n",
        " 'rec.sport.baseball',\n",
        " 'rec.sport.hockey',\n",
        " 'sci.crypt',\n",
        " 'sci.electronics',\n",
        " 'sci.med',\n",
        " 'sci.space',\n",
        " 'soc.religion.christian',\n",
        " 'talk.politics.guns',\n",
        " 'talk.politics.mideast',\n",
        " 'talk.politics.misc',\n",
        " 'talk.religion.misc']"
       ]
      }
     ],
     "prompt_number": 74
    },
    {
     "cell_type": "markdown",
     "metadata": {},
     "source": [
      "The [scikit-learn documentation](http://scikit-learn.org/stable/datasets/twenty_newsgroups.html#converting-text-to-vectors) has information on how to vectorize this data; for simplicity here we'll use the pre-vectorized version also available in the package (this uses basic TF-IDF vectorization):"
     ]
    },
    {
     "cell_type": "code",
     "collapsed": false,
     "input": [
      "from sklearn.datasets import fetch_20newsgroups_vectorized\n",
      "print(fetch_20newsgroups_vectorized.__doc__)"
     ],
     "language": "python",
     "metadata": {},
     "outputs": [
      {
       "output_type": "stream",
       "stream": "stdout",
       "text": [
        "Load the 20 newsgroups dataset and transform it into tf-idf vectors.\n",
        "\n",
        "    This is a convenience function; the tf-idf transformation is done using the\n",
        "    default settings for `sklearn.feature_extraction.text.Vectorizer`. For more\n",
        "    advanced usage (stopword filtering, n-gram extraction, etc.), combine\n",
        "    fetch_20newsgroups with a custom `Vectorizer` or `CountVectorizer`.\n",
        "\n",
        "    Parameters\n",
        "    ----------\n",
        "\n",
        "    subset: 'train' or 'test', 'all', optional\n",
        "        Select the dataset to load: 'train' for the training set, 'test'\n",
        "        for the test set, 'all' for both, with shuffled ordering.\n",
        "\n",
        "    data_home: optional, default: None\n",
        "        Specify an download and cache folder for the datasets. If None,\n",
        "        all scikit-learn data is stored in '~/scikit_learn_data' subfolders.\n",
        "\n",
        "    remove: tuple\n",
        "        May contain any subset of ('headers', 'footers', 'quotes'). Each of\n",
        "        these are kinds of text that will be detected and removed from the\n",
        "        newsgroup posts, preventing classifiers from overfitting on\n",
        "        metadata.\n",
        "\n",
        "        'headers' removes newsgroup headers, 'footers' removes blocks at the\n",
        "        ends of posts that look like signatures, and 'quotes' removes lines\n",
        "        that appear to be quoting another post.\n",
        "\n",
        "    Returns\n",
        "    -------\n",
        "\n",
        "    bunch : Bunch object\n",
        "        bunch.data: sparse matrix, shape [n_samples, n_features]\n",
        "        bunch.target: array, shape [n_samples]\n",
        "        bunch.target_names: list, length [n_classes]\n",
        "    \n"
       ]
      }
     ],
     "prompt_number": 75
    },
    {
     "cell_type": "code",
     "collapsed": false,
     "input": [
      "# remove metadata to prevent over-fitting of these features\n",
      "data = fetch_20newsgroups_vectorized(remove=('headers', 'footers', 'quotes'))"
     ],
     "language": "python",
     "metadata": {},
     "outputs": [],
     "prompt_number": 76
    },
    {
     "cell_type": "code",
     "collapsed": false,
     "input": [
      "data.keys()"
     ],
     "language": "python",
     "metadata": {},
     "outputs": [
      {
       "metadata": {},
       "output_type": "pyout",
       "prompt_number": 77,
       "text": [
        "['data', 'target', 'target_names']"
       ]
      }
     ],
     "prompt_number": 77
    },
    {
     "cell_type": "code",
     "collapsed": false,
     "input": [
      "data['data']"
     ],
     "language": "python",
     "metadata": {},
     "outputs": [
      {
       "metadata": {},
       "output_type": "pyout",
       "prompt_number": 78,
       "text": [
        "<11314x101631 sparse matrix of type '<type 'numpy.float64'>'\n",
        "\twith 1103627 stored elements in Compressed Sparse Row format>"
       ]
      }
     ],
     "prompt_number": 78
    },
    {
     "cell_type": "markdown",
     "metadata": {},
     "source": [
      "Our data is a sparse matrix with 130107 features.\n",
      "\n",
      "Now that we have this data, here is our question:\n",
      "*Given the vectorized data, build a classifier that can predict the category of an unlabeled message.*\n",
      "\n",
      "For an example of several estimators used on this dataset, see the [Classification of 20 newsgroups](http://scikit-learn.org/stable/auto_examples/document_classification_20newsgroups.html) within the scikit-learn documentation.\n",
      "\n",
      "We'll use the ``SGDClassifier``, a variant of support vector machines.\n",
      "\n",
      "Here's a simple SGDClassifier model trained on the full dataset:"
     ]
    },
    {
     "cell_type": "code",
     "collapsed": false,
     "input": [
      "from sklearn.naive_bayes import MultinomialNB\n",
      "clf = MultinomialNB(alpha=0.1)\n",
      "clf.fit(data['data'], data['target'])"
     ],
     "language": "python",
     "metadata": {},
     "outputs": [
      {
       "metadata": {},
       "output_type": "pyout",
       "prompt_number": 79,
       "text": [
        "MultinomialNB(alpha=0.1, class_prior=None, fit_prior=True)"
       ]
      }
     ],
     "prompt_number": 79
    },
    {
     "cell_type": "code",
     "collapsed": false,
     "input": [
      "predicted = clf.predict(data.data)\n",
      "print(clf.score(data['data'], data['target']))"
     ],
     "language": "python",
     "metadata": {},
     "outputs": [
      {
       "output_type": "stream",
       "stream": "stdout",
       "text": [
        "0.85566554711\n"
       ]
      }
     ],
     "prompt_number": 80
    },
    {
     "cell_type": "markdown",
     "metadata": {},
     "source": [
      "For this model, we have correctly identified ~85% of the labels.\n",
      "\n",
      "Let's look at the *confusion matrix* to visualize which categories the classifier is mixing up:"
     ]
    },
    {
     "cell_type": "code",
     "collapsed": false,
     "input": [
      "from sklearn.metrics import confusion_matrix\n",
      "\n",
      "C = confusion_matrix(data.target, predicted)\n",
      "\n",
      "fig, ax = plt.subplots(figsize=(8, 8))\n",
      "\n",
      "plt.imshow(C, interpolation='nearest',\n",
      "           cmap=plt.cm.binary)\n",
      "    \n",
      "plt.xticks(range(20), data.target_names, rotation=90)\n",
      "plt.yticks(range(20), data.target_names)\n",
      "\n",
      "plt.xlabel('predicted')\n",
      "plt.ylabel('true');"
     ],
     "language": "python",
     "metadata": {},
     "outputs": [
      {
       "metadata": {},
       "output_type": "display_data",
       "png": "[encoded data removed]",
       "text": [
        "<matplotlib.figure.Figure at 0x10acc0650>"
       ]
      }
     ],
     "prompt_number": 81
    },
    {
     "cell_type": "markdown",
     "metadata": {},
     "source": [
      "If you've done any ML validation before, you'll immediately notice a problem here: we used the *same data* to both train and evaluate the model. With this setup, there is the potential to *over-fit* the training data. Instead, we should use *cross-validation*: basically fitting on part of the data, and evaluating on another part.\n",
      "\n",
      "We can do this by-hand here:"
     ]
    },
    {
     "cell_type": "code",
     "collapsed": false,
     "input": [
      "split = int(0.9 * len(data.target))\n",
      "\n",
      "clf.fit(data.data[:split], data.target[:split])\n",
      "clf.score(data.data[split:], data.target[split:])"
     ],
     "language": "python",
     "metadata": {},
     "outputs": [
      {
       "metadata": {},
       "output_type": "pyout",
       "prompt_number": 82,
       "text": [
        "0.67932862190812726"
       ]
      }
     ],
     "prompt_number": 82
    },
    {
     "cell_type": "markdown",
     "metadata": {},
     "source": [
      "Using this validation set, we see that the actual score is closer to ~67%. We might get a better estimate by doing this multiple times, leaving out 1/10 of the data each time. Because this is such a common method to use, scikit-learn has a built-in convenience routine to do this:"
     ]
    },
    {
     "cell_type": "code",
     "collapsed": false,
     "input": [
      "from sklearn.cross_validation import cross_val_score\n",
      "cross_val_score(clf, data.data, data.target, cv=10)"
     ],
     "language": "python",
     "metadata": {},
     "outputs": [
      {
       "metadata": {},
       "output_type": "pyout",
       "prompt_number": 83,
       "text": [
        "array([ 0.68462898,  0.66872792,  0.68551237,  0.69081272,  0.70380195,\n",
        "        0.67904509,  0.68169761,  0.67816092,  0.68611848,  0.69761273])"
       ]
      }
     ],
     "prompt_number": 83
    },
    {
     "cell_type": "markdown",
     "metadata": {},
     "source": [
      "It's clear that the score is closer to ~68% than the ~85% we saw above."
     ]
    },
    {
     "cell_type": "heading",
     "level": 3,
     "metadata": {},
     "source": [
      "HyperParameter Optimization"
     ]
    },
    {
     "cell_type": "markdown",
     "metadata": {},
     "source": [
      "We can use this cross-validation approach to optimize over the hyperparameters in the problem. For example:"
     ]
    },
    {
     "cell_type": "code",
     "collapsed": false,
     "input": [
      "alphas = [1E-4, 1E-3, 1E-2, 1E-1]\n",
      "results = []\n",
      "for alpha in alphas:\n",
      "    clf = MultinomialNB(alpha)\n",
      "    results.append(np.mean(cross_val_score(clf, data.data, data.target)))\n",
      "results"
     ],
     "language": "python",
     "metadata": {},
     "outputs": [
      {
       "metadata": {},
       "output_type": "pyout",
       "prompt_number": 84,
       "text": [
        "[0.74120567569343498,\n",
        " 0.74898382185717338,\n",
        " 0.73687521905138453,\n",
        " 0.66015605410455547]"
       ]
      }
     ],
     "prompt_number": 84
    },
    {
     "cell_type": "markdown",
     "metadata": {},
     "source": [
      "We find that we get a much better fit for $\\alpha = 0.001$: a score of around 75%. This is a simple example of a **grid search** in one dimension."
     ]
    },
    {
     "cell_type": "heading",
     "level": 3,
     "metadata": {},
     "source": [
      "Homework Tasks:"
     ]
    },
    {
     "cell_type": "markdown",
     "metadata": {},
     "source": [
      "1. Create a function which will do a 1-dimensional grid search in parallel. Think about how you will manage the data (i.e. try to send the data to the nodes just once, rather than over and over)\n",
      "\n",
      "2. Use this grid search to create and plot a curve showing accuracy vs. alpha (log-spaced alphas are probably best). What is the best alpha for this problem?\n",
      "\n",
      "3. Apply this code to the SGDClassifier using ``penalty=\"elasticnet\"`` (you can dig through [this demo](http://scikit-learn.org/stable/auto_examples/document_classification_20newsgroups.html) to find an example of this). This is a much slower classifier, so the parallel computation will be very important!\n",
      "\n",
      "4. *Advanced*: using a non-blocking load-balanced view, randomize the list of inputs and create a function which chooses randomized values of the hyperparameter and periodically reports the current best accuracy. Once the accuracy is suitable, you can choose ``Kernel->Interrupt`` and use the best model. This is a *very* useful tool to have in practice.\n",
      "\n",
      "5. For a deeper dive into this subject, you can take a look at Olivier Grisel's [Parallel ML tutorial](https://github.com/ogrisel/parallel_ml_tutorial) (see the notebook listing [here](http://nbviewer.ipython.org/github/ogrisel/parallel_ml_tutorial/tree/master/notebooks/)). This includes information on [Running IPython clusters on Amazon EC2](http://nbviewer.ipython.org/github/ogrisel/parallel_ml_tutorial/blob/master/notebooks/03%20-%20Distributed%20Model%20Selection%20and%20Assessment.ipynb#A-More-Complete-Parallel-Model-Selection-and-Assessment-Example).\n",
      "\n",
      "6. (Optional?) Repeat the previous sentiment analysis exercise, but use parallel cross-validation to refine the hyperparameters. If desired, scale this up to EC2 using StarCluster."
     ]
    },
    {
     "cell_type": "markdown",
     "metadata": {},
     "source": [
      "That's all folks!"
     ]
    },
    {
     "cell_type": "code",
     "collapsed": false,
     "input": [
      "# Define some styles for the notebook:\n",
      "\n",
      "from IPython.display import HTML\n",
      "HTML(\"\"\"\n",
      "<style>\n",
      "div.cell, div.text_cell_render{\n",
      "  max-width:750px;\n",
      "  margin-left:auto;\n",
      "  margin-right:auto;\n",
      "}\n",
      "\n",
      ".rendered_html\n",
      "{\n",
      "  font-size: 140%;\n",
      "  }\n",
      "\n",
      ".rendered_html li\n",
      "{\n",
      "  line-height: 1.8;\n",
      "  }\n",
      "\n",
      ".rendered_html h1, h2, h3, h4 {\n",
      "  text-align:center;\n",
      "  font-familly:\"Charis SIL\", serif;\n",
      "}\n",
      "</style>\"\"\")"
     ],
     "language": "python",
     "metadata": {},
     "outputs": [
      {
       "html": [
        "\n",
        "<style>\n",
        "div.cell, div.text_cell_render{\n",
        "  max-width:750px;\n",
        "  margin-left:auto;\n",
        "  margin-right:auto;\n",
        "}\n",
        "\n",
        ".rendered_html\n",
        "{\n",
        "  font-size: 140%;\n",
        "  }\n",
        "\n",
        ".rendered_html li\n",
        "{\n",
        "  line-height: 1.8;\n",
        "  }\n",
        "\n",
        ".rendered_html h1, h2, h3, h4 {\n",
        "  text-align:center;\n",
        "  font-familly:\"Charis SIL\", serif;\n",
        "}\n",
        "</style>"
       ],
       "metadata": {},
       "output_type": "pyout",
       "prompt_number": 1,
       "text": [
        "<IPython.core.display.HTML at 0x102612050>"
       ]
      }
     ],
     "prompt_number": 1
    }
   ],
   "metadata": {}
  }
 ]
}